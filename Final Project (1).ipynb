{
 "cells": [
  {
   "cell_type": "markdown",
   "metadata": {},
   "source": [
    "# Final Project: Is There Trading Opportunity in WallStreetBets?"
   ]
  },
  {
   "cell_type": "markdown",
   "metadata": {},
   "source": [
    "\n",
    "https://www.wsj.com/articles/wall-street-is-looking-to-reddit-for-investment-advice-11630056648\n",
    "\n",
    "\"Wall Street professionals tell everyday investors what stocks to buy. But now they have to follow some of these amateurs for signs of where the market is headed next.\n",
    "\n",
    "Venerable institutions Goldman Sachs Group Inc. and Morgan Stanley are tracking the retail trading frenzy, and hedge funds in New York and London have employees combing through the internet forum of Reddit, Twitter or chat startup Discord in search of trading opportunities. They turned to these sources following a period of market mayhem dominated by amateurs on Reddit’s WallStreetBets and the Robinhood Markets Inc. trading app who collectively boosted the shares of GameStop Corp. and other companies that had fallen out of Wall Street’s favor.\"\n",
    "\n",
    "The purpose of this final project is to examine whether there is trading opportunity in WallStreetBets.\n"
   ]
  },
  {
   "cell_type": "markdown",
   "metadata": {},
   "source": [
    "## Part 1: Obtain WallStreetBets Data"
   ]
  },
  {
   "cell_type": "code",
   "execution_count": 1,
   "metadata": {},
   "outputs": [
    {
     "name": "stdout",
     "output_type": "stream",
     "text": [
      "Requirement already satisfied: praw in /Users/quoc/opt/anaconda3/lib/python3.9/site-packages (7.5.0)\n",
      "Requirement already satisfied: websocket-client>=0.54.0 in /Users/quoc/opt/anaconda3/lib/python3.9/site-packages (from praw) (1.2.3)\n",
      "Requirement already satisfied: update-checker>=0.18 in /Users/quoc/opt/anaconda3/lib/python3.9/site-packages (from praw) (0.18.0)\n",
      "Requirement already satisfied: prawcore<3,>=2.1 in /Users/quoc/opt/anaconda3/lib/python3.9/site-packages (from praw) (2.3.0)\n",
      "Requirement already satisfied: requests<3.0,>=2.6.0 in /Users/quoc/opt/anaconda3/lib/python3.9/site-packages (from prawcore<3,>=2.1->praw) (2.26.0)\n",
      "Requirement already satisfied: charset-normalizer~=2.0.0 in /Users/quoc/opt/anaconda3/lib/python3.9/site-packages (from requests<3.0,>=2.6.0->prawcore<3,>=2.1->praw) (2.0.4)\n",
      "Requirement already satisfied: idna<4,>=2.5 in /Users/quoc/opt/anaconda3/lib/python3.9/site-packages (from requests<3.0,>=2.6.0->prawcore<3,>=2.1->praw) (3.2)\n",
      "Requirement already satisfied: urllib3<1.27,>=1.21.1 in /Users/quoc/opt/anaconda3/lib/python3.9/site-packages (from requests<3.0,>=2.6.0->prawcore<3,>=2.1->praw) (1.26.7)\n",
      "Requirement already satisfied: certifi>=2017.4.17 in /Users/quoc/opt/anaconda3/lib/python3.9/site-packages (from requests<3.0,>=2.6.0->prawcore<3,>=2.1->praw) (2021.10.8)\n",
      "Note: you may need to restart the kernel to use updated packages.\n"
     ]
    }
   ],
   "source": [
    "%pip install praw"
   ]
  },
  {
   "cell_type": "code",
   "execution_count": null,
   "metadata": {},
   "outputs": [],
   "source": [
    "import praw\n",
    "import pandas as pd\n",
    "\n",
    "reddit_read_only = praw.Reddit( client_id=\"ZpDGr5jljWBSF4iSFRHwoQ\",         # your client id\n",
    "                                client_secret=\"qFlRpmTL9o9byxG0DC4hCrbXX9kOWA\",      # your client secret\n",
    "                                user_agent=\"quoc\")        # your user agent\n",
    "\n",
    "subreddit = reddit_read_only.subreddit(\"wallstreetbets\")\n",
    "\n",
    "for post in subreddit.hot(limit=5):\n",
    "    print(post.title)\n",
    "    print()\n",
    "\n",
    "\n",
    "posts = subreddit.top(\"day\")\n",
    "# Scraping the top posts of the current month\n",
    "\n",
    "posts_dict = {\"Title\": [], \"Post Text\": [],\n",
    "                \"ID\": [], \"Score\": [],\n",
    "                \"Total Comments\": [], \"Post URL\": []\n",
    "            }\n",
    "\n",
    "for post in posts:\n",
    "    # Title of each post\n",
    "    posts_dict[\"Title\"].append(post.title)\n",
    "\n",
    "    # Text inside a post\n",
    "    posts_dict[\"Post Text\"].append(post.selftext)\n",
    "\n",
    "    # Unique ID of each post\n",
    "    posts_dict[\"ID\"].append(post.id)\n",
    "\n",
    "    # The score of a post\n",
    "    posts_dict[\"Score\"].append(post.score)\n",
    "\n",
    "    # Total number of comments inside the post\n",
    "    posts_dict[\"Total Comments\"].append(post.num_comments)\n",
    "\n",
    "    # URL of each post\n",
    "    posts_dict[\"Post URL\"].append(post.url)\n",
    "\n",
    "# Saving the data in a pandas dataframe\n",
    "top_posts = pd.DataFrame(posts_dict)\n",
    "top_posts.head(10)\n",
    "\n",
    "top_posts.to_csv(\"Top Posts.csv\", index=True)"
   ]
  },
  {
   "cell_type": "markdown",
   "metadata": {},
   "source": [
    "## Part 2: Merge the data"
   ]
  },
  {
   "cell_type": "markdown",
   "metadata": {},
   "source": [
    "* Compute cumulative returns\n",
    "\n",
    "    * Import `return.csv` data\n",
    "\n",
    "    * Compute the next day return, future 1-week cumulative return, future 1-month cumulative return, and future 3-month cumulative return for all stocks that are mentioned in WallStreetBets' postings.\n",
    "\n",
    "* Merge WallStreetBets data with the return data and Fama-French 3-factors data.\n",
    "\n",
    "    * Merge the data by ticker and date."
   ]
  },
  {
   "cell_type": "markdown",
   "metadata": {},
   "source": [
    "## Part 3: Analysis \n",
    "\n",
    "* Run tests to examine whether WallStreetBets postings can predict future stock return.\n",
    "\n",
    "    * Does the number of comments matter?\n",
    "    \n",
    "    * Does the sector matter?\n",
    "    \n",
    "    * Are there \"star\" posters?\n",
    "\n",
    "\n",
    "* Benchmark your returns with the 3-factor model. Is alpha generated by this strategy significant?"
   ]
  },
  {
   "cell_type": "code",
   "execution_count": null,
   "metadata": {},
   "outputs": [],
   "source": []
  }
 ],
 "metadata": {
  "kernelspec": {
   "display_name": "Python 3",
   "language": "python",
   "name": "python3"
  },
  "language_info": {
   "codemirror_mode": {
    "name": "ipython",
    "version": 3
   },
   "file_extension": ".py",
   "mimetype": "text/x-python",
   "name": "python",
   "nbconvert_exporter": "python",
   "pygments_lexer": "ipython3",
   "version": "3.9.7"
  }
 },
 "nbformat": 4,
 "nbformat_minor": 4
}
